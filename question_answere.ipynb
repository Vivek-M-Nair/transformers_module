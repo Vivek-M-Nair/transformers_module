{
 "cells": [
  {
   "cell_type": "code",
   "execution_count": 1,
   "id": "dcff03cf-4b68-48c6-8016-83ff76c9db4a",
   "metadata": {},
   "outputs": [],
   "source": [
    "#pip install transformers torch"
   ]
  },
  {
   "cell_type": "code",
   "execution_count": 2,
   "id": "14bb7344-762b-42eb-9a1c-9e860306ac0a",
   "metadata": {},
   "outputs": [
    {
     "name": "stdout",
     "output_type": "stream",
     "text": [
      "chennai\n"
     ]
    }
   ],
   "source": [
    "from transformers import AutoModelForSeq2SeqLM, AutoTokenizer\n",
    "model_name=\"google/flan-t5-large\"\n",
    "tokenizer=AutoTokenizer.from_pretrained(model_name)\n",
    "model=AutoModelForSeq2SeqLM.from_pretrained(model_name)\n",
    "input_text=\"what is the capital of India?\"\n",
    "inputs=tokenizer(input_text,return_tensors=\"pt\")\n",
    "output=model.generate(**inputs)\n",
    "response=tokenizer.decode(output[0],skip_special_tokens=True)\n",
    "print(response)\n"
   ]
  },
  {
   "cell_type": "code",
   "execution_count": 3,
   "id": "94b6dddd-60d6-47ed-857e-9afafe8d3712",
   "metadata": {},
   "outputs": [],
   "source": [
    "# input_text=[\n",
    "#     \"Solve 12 + 5 * 3 ?\",\n",
    "#     \"who is the president of India?\",\n",
    "#     \"Translate from English To French: What is my name\"\n",
    "# ]\n",
    "# inputs=tokenizer(input_text, padding=True, truncation=True, return_tensors=\"pt\")\n",
    "# outputs=model.generate(**inputs)\n",
    "# response=[tokenizer.decode(output,skip_special_tokens=True)for output in outputs]\n",
    "# for i,resp in enumerate(response):\n",
    "#     print(f\"input:{input_text[i]}\")\n",
    "#     print(f\"response:{resp}\\n\")"
   ]
  },
  {
   "cell_type": "code",
   "execution_count": 22,
   "id": "9f56573e-d0fb-4ac4-a0c7-d708578a6bfc",
   "metadata": {},
   "outputs": [
    {
     "name": "stdout",
     "output_type": "stream",
     "text": [
      "balanced(0.7,0.9): What are the most exciting technologies that you've worked on?\n"
     ]
    }
   ],
   "source": [
    "def questiongeneration(job_description,temperature=0.7,top_p=0.9):\n",
    "\n",
    "    prompt= f\"Generate an interview question for the job role:{job_description}\"\n",
    "    input_ids=tokenizer(prompt, return_tensors=\"pt\").input_ids\n",
    "    output=model.generate(\n",
    "      input_ids, \n",
    "      max_length=100,\n",
    "      do_sample=True,\n",
    "      temperature=temperature,\n",
    "      top_p=top_p\n",
    "    )\n",
    "    return tokenizer.decode(output[0],skip_special_tokens=True)\n",
    "    \n",
    "job_description = \"Data Scientist with experience in Python, machine learning, and deep learning.\"\n",
    "\n",
    "print(\"balanced(0.7,0.9):\",questiongeneration(job_description,temperature=0.7, top_p=0.9))"
   ]
  },
  {
   "cell_type": "code",
   "execution_count": 4,
   "id": "e8134de3-ac46-4226-b185-3250339152d4",
   "metadata": {},
   "outputs": [
    {
     "name": "stdout",
     "output_type": "stream",
     "text": [
      "balanced(0.7,0.9): What programming languages do you know?\n"
     ]
    }
   ],
   "source": [
    "from transformers import AutoModelForSeq2SeqLM, AutoTokenizer\n",
    "model_name=\"google/flan-t5-large\"\n",
    "model=AutoModelForSeq2SeqLM.from_pretrained(model_name)\n",
    "tokenizer=AutoTokenizer.from_pretrained(model_name)\n",
    "def question_generation(job_description,temperature=0.7,top_p=0.9):\n",
    "    prompt= f\"Generate interview questions for:{job_description}\"\n",
    "    input_ids=tokenizer(prompt, return_tensors=\"pt\").input_ids\n",
    "    output=model.generate(\n",
    "        input_ids,\n",
    "        max_length=100,\n",
    "        do_sample=True,\n",
    "        temperature=temperature,\n",
    "        top_p=top_p\n",
    "    )\n",
    "    return tokenizer.decode(output[0],skip_special_tokens=True)\n",
    "job_description=\"Data Scientist with experience in Python, machine learning, and deep learning.\"\n",
    "print(\"balanced(0.7,0.9):\",question_generation(job_description,temperature=0.7,top_p=0.9))\n",
    "\n",
    " "
   ]
  },
  {
   "cell_type": "code",
   "execution_count": 12,
   "id": "52fc7f86-f0b9-4a3d-b213-e2f9ed695a7a",
   "metadata": {},
   "outputs": [
    {
     "name": "stdout",
     "output_type": "stream",
     "text": [
      "input:which is the tallest building in the world\n",
      "response:edgware tower\n",
      "\n",
      "input:who is the Prime Minister of India\n",
      "response:narendra modi\n",
      "\n"
     ]
    }
   ],
   "source": [
    "input=[\"which is the tallest building in the world\",\"who is the Prime Minister of India\"]\n",
    "input_id=tokenizer(input, padding=True, truncation=True, return_tensors=\"pt\")\n",
    "outputs=model.generate(**input_id)\n",
    "response=[tokenizer.decode(output,skip_special_tokens=True)for output in outputs]\n",
    "for i, resp in enumerate(response):\n",
    "    print(f\"input:{input[i]}\")\n",
    "    print(f\"response:{resp}\\n\")\n",
    "    "
   ]
  },
  {
   "cell_type": "code",
   "execution_count": 30,
   "id": "635e3618-ec84-41a5-9792-606d2d3d1c64",
   "metadata": {},
   "outputs": [
    {
     "name": "stdout",
     "output_type": "stream",
     "text": [
      "😀😀high temp: Describe the future of this profession\n",
      "😀😀balanced: What are your favorite programming languages?\n",
      "😀😀high creativity: What skills are some examples of what you'll need?\n"
     ]
    }
   ],
   "source": [
    "def questiongen(job_des,temperature=0.7,top_p=0.9):\n",
    "    prompt= f\"Generate an interview question for: {job_des}\"\n",
    "    input_ids=tokenizer(prompt,return_tensors=\"pt\").input_ids\n",
    "    outputs=model.generate(\n",
    "        input_ids,\n",
    "        max_length=100,\n",
    "        do_sample=True,\n",
    "        temperature=temperature,\n",
    "        top_p=top_p\n",
    "    )\n",
    "    return tokenizer.decode(outputs[0],skip_special_tokens=True)\n",
    "job_des=\"Data Scientist with experience in Python, machine learning, and deep learning.\"\n",
    "print(\"😀😀high temp:\",questiongen(job_des,temperature=1.2,top_p=0.9))\n",
    "print(\"😀😀balanced:\",questiongen(job_des,temperature=0.7,top_p=0.9))\n",
    "print(\"😀😀high creativity:\",questiongen(job_des,temperature=1.0,top_p=1.0))"
   ]
  },
  {
   "cell_type": "code",
   "execution_count": 45,
   "id": "b95337b5-99c7-4c23-a69f-b440f3d2d627",
   "metadata": {},
   "outputs": [
    {
     "name": "stdout",
     "output_type": "stream",
     "text": [
      "question: What are you good at? \n",
      " suggested Answere:skill in teaching computer science, data science, and statistical analysis & machine education (Micro\n"
     ]
    }
   ],
   "source": [
    "from transformers import AutoModelForSeq2SeqLM,AutoTokenizer\n",
    "model_name=\"google/flan-t5-large\"\n",
    "model=AutoModelForSeq2SeqLM.from_pretrained(model_name)\n",
    "tokenizer=AutoTokenizer.from_pretrained(model_name)\n",
    "def qustion_gen(job_description,temperature=0.7,top_p=0.9):\n",
    "    prompt=f\"Generate an interview question for:{job_description}\"\n",
    "    input_ids=tokenizer(prompt,return_tensors=\"pt\").input_ids\n",
    "    outputs=model.generate(\n",
    "    input_ids,\n",
    "    max_length=100,\n",
    "    do_sample=True,\n",
    "    temperature=temperature,\n",
    "    top_p=top_p\n",
    "    )\n",
    "    response_question=tokenizer.decode(outputs[0],skip_special_tokens=True)\n",
    "    return response_question\n",
    "job_description=\"Data Scientist with experience in Python, machine learning, and deep learning.\"\n",
    "question=qustion_gen(job_description)\n",
    "def answere_gen(question,top_p=0.9):\n",
    "    prompt=f\"Generate an detailed  answer for:{question} job description: {job_description}\"\n",
    "    input_ids=tokenizer(prompt,return_tensors=\"pt\").input_ids\n",
    "    outputs=model.generate(input_ids,top_p=1,temperature=1.0,min_length=200,repetition_penalty=1.2, do_sample=True)\n",
    "    res_ans=tokenizer.decode(outputs[0],skip_special_tokens=True)\n",
    "    return res_ans\n",
    "print(f\"question: {question} \\n suggested Answere:{answere_gen(question)}\")"
   ]
  },
  {
   "cell_type": "code",
   "execution_count": null,
   "id": "c7777dcc-3514-45d0-b3bc-29ea78928189",
   "metadata": {},
   "outputs": [],
   "source": []
  },
  {
   "cell_type": "code",
   "execution_count": null,
   "id": "3923034b-580e-4d5d-b7c9-642b57d5ec80",
   "metadata": {},
   "outputs": [],
   "source": []
  }
 ],
 "metadata": {
  "kernelspec": {
   "display_name": "Python [conda env:base] *",
   "language": "python",
   "name": "conda-base-py"
  },
  "language_info": {
   "codemirror_mode": {
    "name": "ipython",
    "version": 3
   },
   "file_extension": ".py",
   "mimetype": "text/x-python",
   "name": "python",
   "nbconvert_exporter": "python",
   "pygments_lexer": "ipython3",
   "version": "3.12.7"
  }
 },
 "nbformat": 4,
 "nbformat_minor": 5
}
