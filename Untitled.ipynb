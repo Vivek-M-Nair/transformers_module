{
 "cells": [
  {
   "cell_type": "code",
   "execution_count": null,
   "id": "dcff03cf-4b68-48c6-8016-83ff76c9db4a",
   "metadata": {},
   "outputs": [],
   "source": [
    "#pip install transformers torch"
   ]
  },
  {
   "cell_type": "code",
   "execution_count": 1,
   "id": "14bb7344-762b-42eb-9a1c-9e860306ac0a",
   "metadata": {},
   "outputs": [
    {
     "name": "stdout",
     "output_type": "stream",
     "text": [
      "chennai\n"
     ]
    }
   ],
   "source": [
    "from transformers import AutoModelForSeq2SeqLM, AutoTokenizer\n",
    "model_name=\"google/flan-t5-large\"\n",
    "tokenizer=AutoTokenizer.from_pretrained(model_name)\n",
    "model=AutoModelForSeq2SeqLM.from_pretrained(model_name)\n",
    "input_text=\"what is the capital of India?\"\n",
    "inputs=tokenizer(input_text,return_tensors=\"pt\")\n",
    "output=model.generate(**inputs)\n",
    "response=tokenizer.decode(output[0],skip_special_tokens=True)\n",
    "print(response)\n"
   ]
  },
  {
   "cell_type": "code",
   "execution_count": 23,
   "id": "94b6dddd-60d6-47ed-857e-9afafe8d3712",
   "metadata": {},
   "outputs": [
    {
     "name": "stdout",
     "output_type": "stream",
     "text": [
      "input:Solve 12 + 5 * 3 ?\n",
      "response:3\n",
      "\n",
      "input:who is the president of India?\n",
      "response:Narendra Modi\n",
      "\n",
      "input:Translate from English To French: What is my name\n",
      "response:Que est mon nom ?\n",
      "\n"
     ]
    }
   ],
   "source": [
    "input_text=[\n",
    "    \"Solve 12 + 5 * 3 ?\",\n",
    "    \"who is the president of India?\",\n",
    "    \"Translate from English To French: What is my name\"\n",
    "]\n",
    "inputs=tokenizer(input_text, padding=True, truncation=True, return_tensors=\"pt\")\n",
    "outputs=model.generate(**inputs)\n",
    "response=[tokenizer.decode(output,skip_special_tokens=True)for output in outputs]\n",
    "for i,resp in enumerate(response):\n",
    "    print(f\"input:{input_text[i]}\")\n",
    "    print(f\"response:{resp}\\n\")"
   ]
  },
  {
   "cell_type": "code",
   "execution_count": null,
   "id": "9f56573e-d0fb-4ac4-a0c7-d708578a6bfc",
   "metadata": {},
   "outputs": [],
   "source": []
  }
 ],
 "metadata": {
  "kernelspec": {
   "display_name": "Python [conda env:base] *",
   "language": "python",
   "name": "conda-base-py"
  },
  "language_info": {
   "codemirror_mode": {
    "name": "ipython",
    "version": 3
   },
   "file_extension": ".py",
   "mimetype": "text/x-python",
   "name": "python",
   "nbconvert_exporter": "python",
   "pygments_lexer": "ipython3",
   "version": "3.12.7"
  }
 },
 "nbformat": 4,
 "nbformat_minor": 5
}
